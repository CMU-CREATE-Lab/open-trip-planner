{
 "cells": [
  {
   "cell_type": "code",
   "execution_count": 1,
   "id": "0a0ce489",
   "metadata": {},
   "outputs": [],
   "source": [
    "import psycopg2"
   ]
  },
  {
   "cell_type": "code",
   "execution_count": null,
   "id": "b58f60e7",
   "metadata": {},
   "outputs": [],
   "source": [
    "conn = psycopg2.connect(dbname=\"opentripplanner\")\n",
    "cur = conn.cursor()\n",
    "cur.execute(droptbl)\n",
    "cur.execute(createtbl)\n",
    "cur.close()\n",
    "conn.commit()"
   ]
  },
  {
   "cell_type": "code",
   "execution_count": null,
   "id": "3943764b",
   "metadata": {},
   "outputs": [],
   "source": [
    "droptbl = \"\"\"\n",
    "DROP TABLE IF EXISTS transit_routes\n",
    "\"\"\"\n",
    "createtbl = \"\"\"\n",
    "CREATE TABLE transit_routes (\n",
    "    org VARCHAR NOT NULL, \n",
    "    dst VARCHAR NOT NULL, \n",
    "    fare INTEGER, \n",
    "    start_date INTEGER, \n",
    "    initial_wait INTEGER, \n",
    "    duration INTEGER, \n",
    "    total_duration INTEGER\n",
    ")\n",
    "\"\"\""
   ]
  }
 ],
 "metadata": {
  "kernelspec": {
   "display_name": "Python 3",
   "language": "python",
   "name": "python3"
  },
  "language_info": {
   "codemirror_mode": {
    "name": "ipython",
    "version": 3
   },
   "file_extension": ".py",
   "mimetype": "text/x-python",
   "name": "python",
   "nbconvert_exporter": "python",
   "pygments_lexer": "ipython3",
   "version": "3.9.5"
  }
 },
 "nbformat": 4,
 "nbformat_minor": 5
}
